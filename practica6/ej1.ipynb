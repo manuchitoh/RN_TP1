{
 "cells": [
  {
   "cell_type": "code",
   "execution_count": 79,
   "metadata": {},
   "outputs": [],
   "source": [
    "import numpy as np\n",
    "import matplotlib.pyplot as plt\n",
    "import random"
   ]
  },
  {
   "cell_type": "code",
   "execution_count": 72,
   "metadata": {},
   "outputs": [],
   "source": [
    "def pattern_maker(N, alpha):\n",
    "    p = int(alpha*N)\n",
    "\n",
    "    x = np.zeros((p, N))\n",
    "    for mu in range(p):\n",
    "        for i in range(N):\n",
    "            random_var = np.random.uniform()\n",
    "            if random_var < 0.5:\n",
    "                x[mu, i] += -1\n",
    "            else:\n",
    "                x[mu, i] += 1\n",
    "    \n",
    "    return x\n",
    "\n",
    "def connection_weights(x):\n",
    "    p, N = x.shape\n",
    "    w = np.dot(x.T, x) / N\n",
    "    np.fill_diagonal(w, 0)\n",
    "    return w\n",
    "\n",
    "def update_parallel(w, S):\n",
    "    return np.sign(np.dot(w, S))\n",
    "\n",
    "def update_sequential(w, S):\n",
    "    # Recorro los índices de forma aleatoria\n",
    "    indices = list(range(len(S))) \n",
    "    random_indices = random.sample(indices, len(indices))\n",
    "    S_new = np.copy(S)\n",
    "    for i in random_indices:\n",
    "        S_new[i] = np.sign(np.dot(w[:, i], S_new))\n",
    "    return S_new\n",
    "\n",
    "\n",
    "def dynamics(N, alpha, update=update_sequential, iterations = 1000):\n",
    "    x = pattern_maker(N, alpha)\n",
    "    w = connection_weights(x)\n",
    "    p = int(N*alpha)\n",
    "\n",
    "    m = np.zeros(p)\n",
    "    time = np.zeros(p)\n",
    "\n",
    "    for mu in range(p):\n",
    "        t = 0\n",
    "        S = np.copy(x[mu])\n",
    "\n",
    "        for _ in range(iterations):\n",
    "            t = 1\n",
    "            S_new = update(w, S)\n",
    "            if np.array_equal(S_new, S):\n",
    "                break\n",
    "            S = np.copy(S_new)\n",
    "    \n",
    "        time[mu] = t\n",
    "        m[mu] = (1/N) * np.dot(S.T, x[mu])\n",
    "    \n",
    "    return m, time"
   ]
  },
  {
   "cell_type": "code",
   "execution_count": null,
   "metadata": {},
   "outputs": [],
   "source": [
    "# Secuencial\n",
    "N = [500, 1000, 2000, 4000]\n",
    "alpha = [0.12, 0.14, 0.16, 0.18]\n",
    "\n",
    "m = np.zeros((len(N), len(alpha)), dtype=object)\n",
    "t = np.zeros((len(N), len(alpha)))\n",
    "\n",
    "for i in range(len(N)):\n",
    "    for j in range(len(alpha)):\n",
    "        m[i,j], t[i,j] = dynamics(N[i], alpha[j])\n",
    "        print('Finalizado caso ', [N[i], alpha[j]])"
   ]
  },
  {
   "cell_type": "code",
   "execution_count": null,
   "metadata": {},
   "outputs": [],
   "source": [
    "figs, axs = plt.subplots(len(N), len(alpha), figsize=(12, 12), sharex=True)\n",
    "\n",
    "for i in range(len(N)):\n",
    "    for j in range(len(alpha)):\n",
    "        axs[i,j].hist(m[i,j], bins=40, range=(0,1), edgecolor='black')\n",
    "\n",
    "        if i == 0:\n",
    "            axs[i,j].set_title(f'$\\\\alpha = {alpha[j]}$')\n",
    "        if j == 0:\n",
    "            axs[i,j].set_ylabel(f'$N = {N[i]}$')\n",
    "        if i == len(N) - 1:\n",
    "            axs[i,j].set_xlabel(f'$m$')\n",
    "plt.tight_layout()"
   ]
  },
  {
   "cell_type": "code",
   "execution_count": null,
   "metadata": {},
   "outputs": [],
   "source": [
    "# Paralelo\n",
    "N = [500, 1000, 2000, 4000]\n",
    "alpha = [0.12, 0.14, 0.16, 0.18]\n",
    "\n",
    "m_p = np.zeros((len(N), len(alpha)), dtype=object)\n",
    "t_p = np.zeros((len(N), len(alpha)))\n",
    "\n",
    "\n",
    "for i in range(len(N)):\n",
    "    for j in range(len(alpha)):\n",
    "        m[i,j], t_p[i,j] = dynamics(N[i], alpha[j], update=update_parallel)\n",
    "        print('Finalizado caso ', [N[i], alpha[j]])"
   ]
  },
  {
   "cell_type": "code",
   "execution_count": null,
   "metadata": {},
   "outputs": [],
   "source": [
    "figs, axs = plt.subplots(len(N), len(alpha), figsize=(12, 12), sharex=True)\n",
    "\n",
    "for i in range(len(N)):\n",
    "    for j in range(len(alpha)):\n",
    "        axs[i,j].hist(m_p[i,j], bins=40, range=(0,1), edgecolor='black')\n",
    "\n",
    "        if i == 0:\n",
    "            axs[i,j].set_title(f'$\\\\alpha = {alpha[j]}$')\n",
    "        if j == 0:\n",
    "            axs[i,j].set_ylabel(f'$N = {N[i]}$')\n",
    "        if i == len(N) - 1:\n",
    "            axs[i,j].set_xlabel(f'$m$')\n",
    "plt.tight_layout()"
   ]
  },
  {
   "cell_type": "code",
   "execution_count": null,
   "metadata": {},
   "outputs": [],
   "source": [
    "figs, axs = plt.subplots(1, 2, figsize=(10,5), sharex=True)\n",
    "\n",
    "for i in range(len(N)):\n",
    "    axs[0].plot(alpha, t[i], 'o-', label=f'N = {N[i]}')\n",
    "    axs[1].plot(alpha, t_p[i], 'o-', label=f'N = {N[i]}')\n",
    "\n",
    "axs[0].set_xlabel(f'$\\\\alpha$')\n",
    "axs[0].set_ylabel('Iteración')\n",
    "axs[0].set_ylim(0, 1000)\n",
    "axs[0].legend()\n",
    "axs[1].set_xlabel(f'$\\\\alpha$')\n",
    "axs[1].set_ylabel('Iteración')\n",
    "axs[1].set_ylim(0, 1000)\n",
    "axs[1].legend()\n",
    "plt.tight_layout()"
   ]
  }
 ],
 "metadata": {
  "kernelspec": {
   "display_name": "Python 3",
   "language": "python",
   "name": "python3"
  },
  "language_info": {
   "codemirror_mode": {
    "name": "ipython",
    "version": 3
   },
   "file_extension": ".py",
   "mimetype": "text/x-python",
   "name": "python",
   "nbconvert_exporter": "python",
   "pygments_lexer": "ipython3",
   "version": "3.9.13"
  }
 },
 "nbformat": 4,
 "nbformat_minor": 2
}
