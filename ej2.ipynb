{
 "cells": [
  {
   "cell_type": "code",
   "execution_count": 10,
   "metadata": {},
   "outputs": [],
   "source": [
    "import numpy as np\n",
    "import matplotlib.pyplot as plt"
   ]
  },
  {
   "cell_type": "code",
   "execution_count": 11,
   "metadata": {},
   "outputs": [],
   "source": [
    "def prob(h, beta):\n",
    "    prob_pos = np.exp(beta*h)/(np.exp(beta*h) + np.exp(beta*h))\n",
    "    prob_neg = 1 - prob_pos\n",
    "    return prob_pos, prob_neg\n",
    "\n",
    "def get_h(weights, state):\n",
    "    return np.dot(weights, state)\n",
    "\n",
    "def pattern_maker(N, p):\n",
    "    return np.random.choice([-1.0, 1.0], size=(p,N))\n",
    "\n",
    "def connection_weights(x):\n",
    "    p, N = x.shape\n",
    "    w = np.dot(x.T, x) / N\n",
    "    np.fill_diagonal(w, 0)\n",
    "    return w\n",
    "\n",
    "def get_overlap(state, patterns):\n",
    "    overlaps = np.mean(state * patterns, axis=1)\n",
    "    return overlaps"
   ]
  },
  {
   "cell_type": "code",
   "execution_count": 12,
   "metadata": {},
   "outputs": [],
   "source": [
    "N = 4000  \n",
    "p = 40     \n",
    "T_values = np.arange(0.1, 2.1, 0.1)  \n",
    "num_updates = 10 \n",
    "\n",
    "patterns = pattern_maker(N, p)\n",
    "weights = connection_weights(patterns)\n",
    "\n",
    "overlaps_avg = []\n",
    "overlaps_std = []\n",
    "\n",
    "for T in T_values:\n",
    "    beta = 1 / T\n",
    "    overlaps_T = []\n",
    "    \n",
    "    for pattern in patterns:\n",
    "        state = pattern.copy()  \n",
    "        for _ in range(num_updates * N): \n",
    "            i = np.random.randint(N) \n",
    "            h_i = get_h(weights[i, :], state)\n",
    "            prob_pos, prob_neg = prob(h_i, beta)\n",
    "            state[i] = 1 if np.random.rand() < prob_pos else -1\n",
    "\n",
    "        overlap = get_overlap(state, patterns)\n",
    "        overlaps_T.append(overlap)\n",
    "    \n",
    "    overlaps_avg.append(np.mean(overlaps_T))\n",
    "    overlaps_std.append(np.std(overlaps_T))"
   ]
  },
  {
   "cell_type": "code",
   "execution_count": null,
   "metadata": {},
   "outputs": [],
   "source": [
    "plt.errorbar(T_values, overlaps_avg, yerr=overlaps_std, marker='o')\n",
    "plt.xlabel(r'$T = 1/\\beta$')\n",
    "plt.ylabel(r'\\langle m \\rangle')"
   ]
  }
 ],
 "metadata": {
  "kernelspec": {
   "display_name": "Python 3",
   "language": "python",
   "name": "python3"
  },
  "language_info": {
   "codemirror_mode": {
    "name": "ipython",
    "version": 3
   },
   "file_extension": ".py",
   "mimetype": "text/x-python",
   "name": "python",
   "nbconvert_exporter": "python",
   "pygments_lexer": "ipython3",
   "version": "3.9.13"
  }
 },
 "nbformat": 4,
 "nbformat_minor": 2
}
